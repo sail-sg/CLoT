{
  "cells": [
    {
      "cell_type": "code",
      "execution_count": null,
      "metadata": {
        "colab": {
          "base_uri": "https://localhost:8080/"
        },
        "id": "q93h9i-ySs_i",
        "outputId": "f594047b-bd25-4cd1-fd51-1779a2a745fa"
      },
      "outputs": [],
      "source": [
        "!git clone https://github.com/sail-sg/CLoT.git"
      ]
    },
    {
      "cell_type": "code",
      "execution_count": null,
      "metadata": {
        "colab": {
          "base_uri": "https://localhost:8080/"
        },
        "id": "Dwt8Ukw8S2qb",
        "outputId": "378203f6-3740-46c1-b0cd-3c426435f5a5"
      },
      "outputs": [],
      "source": [
        "%cd CLoT"
      ]
    },
    {
      "cell_type": "code",
      "execution_count": null,
      "metadata": {
        "colab": {
          "base_uri": "https://localhost:8080/"
        },
        "id": "9t8XfyqkTFpO",
        "outputId": "aa7a2a44-db8a-4123-ec34-317a99f70799"
      },
      "outputs": [],
      "source": [
        "!pip install -r requirements.txt"
      ]
    },
    {
      "cell_type": "code",
      "execution_count": null,
      "metadata": {
        "colab": {
          "base_uri": "https://localhost:8080/"
        },
        "id": "lLqkN13xVzC6",
        "outputId": "3bf92bef-0d7b-40e0-ddd6-1aa2048b35aa"
      },
      "outputs": [],
      "source": [
        "!pip install transformers_stream_generator einops tiktoken"
      ]
    },
    {
      "cell_type": "code",
      "execution_count": null,
      "metadata": {
        "colab": {
          "base_uri": "https://localhost:8080/"
        },
        "id": "9PkhvF_eS7C1",
        "outputId": "ba36b69c-b0a3-44f6-9107-91ece6bb4a3d"
      },
      "outputs": [],
      "source": [
        "!python inference.py"
      ]
    },
    {
      "cell_type": "code",
      "execution_count": null,
      "metadata": {
        "colab": {
          "base_uri": "https://localhost:8080/"
        },
        "id": "Hl_zIIURUx0u",
        "outputId": "040ccc35-9ef3-4d27-aa4f-05b093518cbb"
      },
      "outputs": [],
      "source": [
        "!python gradio_demo.py"
      ]
    }
  ],
  "metadata": {
    "accelerator": "TPU",
    "colab": {
      "gpuType": "V28",
      "provenance": []
    },
    "kernelspec": {
      "display_name": "Python 3",
      "name": "python3"
    },
    "language_info": {
      "name": "python"
    }
  },
  "nbformat": 4,
  "nbformat_minor": 0
}
